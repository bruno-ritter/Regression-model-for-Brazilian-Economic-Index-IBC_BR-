{
  "nbformat": 4,
  "nbformat_minor": 0,
  "metadata": {
    "colab": {
      "name": "Base de dados Tabela 1 - Chauvet(2001).ipynb",
      "provenance": [],
      "collapsed_sections": [],
      "include_colab_link": true
    },
    "kernelspec": {
      "name": "python3",
      "display_name": "Python 3"
    },
    "language_info": {
      "name": "python"
    }
  },
  "cells": [
    {
      "cell_type": "markdown",
      "metadata": {
        "id": "view-in-github",
        "colab_type": "text"
      },
      "source": [
        "<a href=\"https://colab.research.google.com/github/bruno-ritter/Regression-model-for-Brazilian-Economic-Index-IBC_BR-/blob/main/Base_de_dados_Tabela_1_Chauvet(2001).ipynb\" target=\"_parent\"><img src=\"https://colab.research.google.com/assets/colab-badge.svg\" alt=\"Open In Colab\"/></a>"
      ]
    },
    {
      "cell_type": "code",
      "execution_count": null,
      "metadata": {
        "id": "v7EbH6Swvy7U"
      },
      "outputs": [],
      "source": [
        "import pandas as pd\n",
        "import numpy as np"
      ]
    },
    {
      "cell_type": "markdown",
      "source": [
        "###Base de dados Banco Central"
      ],
      "metadata": {
        "id": "xsOgX50g5xJb"
      }
    },
    {
      "cell_type": "code",
      "source": [
        "def base_bacen(codigo_bcb):\n",
        "  url_bcb = f'http://api.bcb.gov.br/dados/serie/bcdata.sgs.{codigo_bcb}/dados?formato=json'\n",
        "  df = pd.read_json(url_bcb)\n",
        "  df['data'] = pd.to_datetime(df['data'], dayfirst=True)\n",
        "  df.set_index('data', inplace=True)\n",
        "  return df"
      ],
      "metadata": {
        "id": "sJmmZBK98By9"
      },
      "execution_count": null,
      "outputs": []
    },
    {
      "cell_type": "code",
      "source": [
        "#\tProdução Industrial (2012=100) – Geral – Região Sudeste (Índice)\n",
        "prod_industrial = base_bacen(21924)\n",
        "prod_industrial = prod_industrial.rename(columns={'valor':'prod_industrial_sudeste (indice)'})\n",
        "prod_industrial['variacao_prod_industrial_sudeste'] = prod_industrial['prod_industrial_sudeste (indice)'].diff()\n",
        "prod_industrial['crescimento_prod_industrial_sudeste'] = (prod_industrial['prod_industrial_sudeste (indice)'] / prod_industrial['prod_industrial_sudeste (indice)'].iloc[0]) - 1\n",
        "prod_industrial['variacao_prod_industrial_sudeste'][0] = 0"
      ],
      "metadata": {
        "id": "ZiasvX4Y5Y3b"
      },
      "execution_count": null,
      "outputs": []
    },
    {
      "cell_type": "code",
      "source": [
        "# Consumo de derivados de petróleo - Óleo combustível (Barris/dia (mil))\n",
        "consu_petroleo = base_bacen(1395)\n",
        "consu_petroleo = consu_petroleo.rename(columns={'valor':'consumo_petroleo (barris/dia)'})\n",
        "consu_petroleo['variacao_consumo_petroleo'] = consu_petroleo['consumo_petroleo (barris/dia)'].diff()\n",
        "consu_petroleo['crescimento_consumo_petroleo'] = (consu_petroleo['consumo_petroleo (barris/dia)'] / consu_petroleo['consumo_petroleo (barris/dia)'].iloc[0]) - 1\n",
        "consu_petroleo['variacao_consumo_petroleo'][0] = 0"
      ],
      "metadata": {
        "id": "zgVMSHsN55F7",
        "colab": {
          "base_uri": "https://localhost:8080/"
        },
        "outputId": "b4658a7c-c3e2-4d1b-8499-3d3f016c9347"
      },
      "execution_count": null,
      "outputs": [
        {
          "output_type": "stream",
          "name": "stderr",
          "text": [
            "/usr/local/lib/python3.7/dist-packages/ipykernel_launcher.py:6: SettingWithCopyWarning: \n",
            "A value is trying to be set on a copy of a slice from a DataFrame\n",
            "\n",
            "See the caveats in the documentation: https://pandas.pydata.org/pandas-docs/stable/user_guide/indexing.html#returning-a-view-versus-a-copy\n",
            "  \n"
          ]
        }
      ]
    },
    {
      "cell_type": "code",
      "source": [
        "#\tPIB trimestral - Dados observados - Produção e distribuição de eletricidade, gás e água (Índice)\n",
        "pro_elet = base_bacen(22088)\n",
        "pro_elet = pro_elet.rename(columns={'valor':'producao_eletrica (indice)'})\n",
        "pro_elet['variacao_producao_eletrica'] = pro_elet['producao_eletrica (indice)'].diff()\n",
        "pro_elet['crescimento_producao_eletrica'] = (pro_elet['producao_eletrica (indice)'] / pro_elet['producao_eletrica (indice)'].iloc[0]) - 1\n",
        "pro_elet['variacao_producao_eletrica'][0] = 0"
      ],
      "metadata": {
        "id": "s8P0X_CC7A3o"
      },
      "execution_count": null,
      "outputs": []
    },
    {
      "cell_type": "code",
      "source": [
        "#Produção Total de Autoveículos\n",
        "prod_auto = base_bacen(1373)\n",
        "prod_auto = prod_auto.rename(columns={'valor':'producao_autoveiculos (uni)'})\n",
        "prod_auto['variacao_producao_autoveiculos'] = prod_auto['producao_autoveiculos (uni)'].diff()\n",
        "prod_auto['crescimento_producao_autoveiculos'] = (prod_auto['producao_autoveiculos (uni)'] / prod_auto['producao_autoveiculos (uni)'].iloc[0]) - 1\n",
        "prod_auto['variacao_producao_autoveiculos'][0] = 0"
      ],
      "metadata": {
        "id": "RX8tzM_d7ryu",
        "colab": {
          "base_uri": "https://localhost:8080/"
        },
        "outputId": "275aa75f-2fc1-4476-fecc-5f76266b23d7"
      },
      "execution_count": null,
      "outputs": [
        {
          "output_type": "stream",
          "name": "stderr",
          "text": [
            "/usr/local/lib/python3.7/dist-packages/ipykernel_launcher.py:6: SettingWithCopyWarning: \n",
            "A value is trying to be set on a copy of a slice from a DataFrame\n",
            "\n",
            "See the caveats in the documentation: https://pandas.pydata.org/pandas-docs/stable/user_guide/indexing.html#returning-a-view-versus-a-copy\n",
            "  \n"
          ]
        }
      ]
    },
    {
      "cell_type": "code",
      "source": [
        "#Vendas de veículos – Total\n",
        "vendas_veiculos = base_bacen(7389)\n",
        "vendas_veiculos = vendas_veiculos.rename(columns={'valor':'vendas_autoveiculos (uni)'})\n",
        "vendas_veiculos['variacao_vendas_veiculos'] = vendas_veiculos['vendas_autoveiculos (uni)'].diff()\n",
        "vendas_veiculos['crescimento_vendas_veiculos'] = (vendas_veiculos['vendas_autoveiculos (uni)'] / vendas_veiculos['vendas_autoveiculos (uni)'].iloc[0]) - 1\n",
        "vendas_veiculos['variacao_vendas_veiculos'][0] = 0"
      ],
      "metadata": {
        "id": "tiTjyXpq4iV6",
        "colab": {
          "base_uri": "https://localhost:8080/"
        },
        "outputId": "b8dd75a8-7ef7-446c-ca17-c21d68323156"
      },
      "execution_count": null,
      "outputs": [
        {
          "output_type": "stream",
          "name": "stderr",
          "text": [
            "/usr/local/lib/python3.7/dist-packages/ipykernel_launcher.py:6: SettingWithCopyWarning: \n",
            "A value is trying to be set on a copy of a slice from a DataFrame\n",
            "\n",
            "See the caveats in the documentation: https://pandas.pydata.org/pandas-docs/stable/user_guide/indexing.html#returning-a-view-versus-a-copy\n",
            "  \n"
          ]
        }
      ]
    },
    {
      "cell_type": "code",
      "source": [
        "#IBC-Br ajuste sazonal\n",
        "ibc_ajuste_sazonal = base_bacen(24364)\n",
        "ibc_ajuste_sazonal = ibc_ajuste_sazonal.rename(columns={'valor':'ibc_ajuste_sazonal'})\n",
        "ibc_ajuste_sazonal['variacao_ibc_ajuste_sazonal'] = ibc_ajuste_sazonal['ibc_ajuste_sazonal'].diff()\n",
        "ibc_ajuste_sazonal['crescimento_ibc_ajuste_sazonal'] = (ibc_ajuste_sazonal['ibc_ajuste_sazonal'] / ibc_ajuste_sazonal['ibc_ajuste_sazonal'].iloc[0]) - 1\n",
        "ibc_ajuste_sazonal['variacao_ibc_ajuste_sazonal'][0] = 0"
      ],
      "metadata": {
        "id": "V_U040uN6E3P"
      },
      "execution_count": null,
      "outputs": []
    },
    {
      "cell_type": "code",
      "source": [
        "#Estoque de empregos formais\n",
        "estoque_empr_formais = base_bacen(28763)\n",
        "estoque_empr_formais = estoque_empr_formais.rename(columns={'valor':'estoque_empr_formais'})\n",
        "estoque_empr_formais['variacao_estoque_empr_formais'] = estoque_empr_formais['estoque_empr_formais'].diff()\n",
        "estoque_empr_formais['crescimento_estoque_empr_formais'] = (estoque_empr_formais['estoque_empr_formais'] / estoque_empr_formais['estoque_empr_formais'].iloc[0]) - 1\n",
        "estoque_empr_formais['variacao_estoque_empr_formais'][0] = 0"
      ],
      "metadata": {
        "id": "l15wvKbn6Lmn",
        "colab": {
          "base_uri": "https://localhost:8080/"
        },
        "outputId": "d75f8a32-6242-48b1-98af-472a412c0855"
      },
      "execution_count": null,
      "outputs": [
        {
          "output_type": "stream",
          "name": "stderr",
          "text": [
            "/usr/local/lib/python3.7/dist-packages/ipykernel_launcher.py:6: SettingWithCopyWarning: \n",
            "A value is trying to be set on a copy of a slice from a DataFrame\n",
            "\n",
            "See the caveats in the documentation: https://pandas.pydata.org/pandas-docs/stable/user_guide/indexing.html#returning-a-view-versus-a-copy\n",
            "  \n"
          ]
        }
      ]
    },
    {
      "cell_type": "code",
      "source": [
        "#Índice de Produção Industrial\n",
        "indice_prod_ind = base_bacen(21859)\n",
        "indice_prod_ind = indice_prod_ind.rename(columns={'valor':'indice_prod_ind'})\n",
        "indice_prod_ind['variacao_indice_prod_ind'] = indice_prod_ind['indice_prod_ind'].diff()\n",
        "indice_prod_ind['crescimento_indice_prod_ind'] = (indice_prod_ind['indice_prod_ind'] / indice_prod_ind['indice_prod_ind'].iloc[0]) - 1\n",
        "indice_prod_ind['variacao_indice_prod_ind'][0] = 0"
      ],
      "metadata": {
        "id": "u7dpBMhy6XJ9"
      },
      "execution_count": null,
      "outputs": []
    },
    {
      "cell_type": "code",
      "source": [
        "#Consumo de energia Total\n",
        "consumo_energia_total = base_bacen(1406)\n",
        "consumo_energia_total = consumo_energia_total.rename(columns={'valor':'consumo_energia_total'})\n",
        "consumo_energia_total['variacao_consumo_energia_total'] = consumo_energia_total['consumo_energia_total'].diff()\n",
        "consumo_energia_total['crescimento_consumo_energia_total'] = (consumo_energia_total['consumo_energia_total'] / consumo_energia_total['consumo_energia_total'].iloc[0]) - 1\n",
        "consumo_energia_total['variacao_consumo_energia_total'][0] = 0"
      ],
      "metadata": {
        "id": "GhjEAT0g6lp5",
        "colab": {
          "base_uri": "https://localhost:8080/"
        },
        "outputId": "00fb92ff-7e58-40e5-d305-9135d4ccd70e"
      },
      "execution_count": null,
      "outputs": [
        {
          "output_type": "stream",
          "name": "stderr",
          "text": [
            "/usr/local/lib/python3.7/dist-packages/ipykernel_launcher.py:6: SettingWithCopyWarning: \n",
            "A value is trying to be set on a copy of a slice from a DataFrame\n",
            "\n",
            "See the caveats in the documentation: https://pandas.pydata.org/pandas-docs/stable/user_guide/indexing.html#returning-a-view-versus-a-copy\n",
            "  \n"
          ]
        }
      ]
    },
    {
      "cell_type": "code",
      "source": [
        "#PMS – Volume total\n",
        "pms = base_bacen(28473)\n",
        "pms = pms.rename(columns={'valor':'pms'})\n",
        "pms['variacao_pms'] = pms['pms'].diff()\n",
        "pms['crescimento_pms'] = (pms['pms'] / pms['pms'].iloc[0]) - 1\n",
        "pms['variacao_pms'][0] = 0"
      ],
      "metadata": {
        "id": "6iIt2XFF6xWY"
      },
      "execution_count": null,
      "outputs": []
    },
    {
      "cell_type": "code",
      "source": [
        "#Índice de condções econômicas\n",
        "indice_cond_econ = base_bacen(4395)\n",
        "indice_cond_econ = indice_cond_econ.rename(columns={'valor':'indice_cond_econ'})\n",
        "indice_cond_econ['variacao_indice_cond_econ'] = indice_cond_econ['indice_cond_econ'].diff()\n",
        "indice_cond_econ['crescimento_indice_cond_econ'] = (indice_cond_econ['indice_cond_econ'] / indice_cond_econ['indice_cond_econ'].iloc[0]) - 1\n",
        "indice_cond_econ['variacao_indice_cond_econ'][0] = 0"
      ],
      "metadata": {
        "id": "-mnnUlku65A3"
      },
      "execution_count": null,
      "outputs": []
    },
    {
      "cell_type": "code",
      "source": [
        "#ISA-S dessazonalizado\n",
        "isa_dessazonalizado = base_bacen(20340)\n",
        "isa_dessazonalizado = isa_dessazonalizado.rename(columns={'valor':'isa_dessazonalizado'})\n",
        "isa_dessazonalizado['variacao_isa_dessazonalizado'] = isa_dessazonalizado['isa_dessazonalizado'].diff()\n",
        "isa_dessazonalizado['crescimento_isa_dessazonalizado'] = (isa_dessazonalizado['isa_dessazonalizado'] / isa_dessazonalizado['isa_dessazonalizado'].iloc[0]) - 1\n",
        "isa_dessazonalizado['variacao_isa_dessazonalizado'][0] = 0"
      ],
      "metadata": {
        "id": "3URmyCtf7Hsb"
      },
      "execution_count": null,
      "outputs": []
    },
    {
      "cell_type": "markdown",
      "source": [
        "###Gráficos"
      ],
      "metadata": {
        "id": "6nh8-XLuzKGR"
      }
    },
    {
      "cell_type": "code",
      "source": [
        "import matplotlib.pyplot as plt"
      ],
      "metadata": {
        "id": "_RzoEDKJzIf4"
      },
      "execution_count": null,
      "outputs": []
    },
    {
      "cell_type": "code",
      "source": [
        "#Crescimento %\n",
        "plt.style.use('seaborn')\n",
        "plt.figure(figsize=(21, 8))\n",
        "plt.title('Base de dados Tabela 1 - Crescimento percentual')\n",
        "\n",
        "plt.plot(consu_petroleo.crescimento_consumo_petroleo, label= 'Consumo Petróleo', color = '#000000')\n",
        "plt.plot(consumo_energia_total.crescimento_consumo_energia_total, label= 'Consumo Energia', color='#f0ec0c')\n",
        "plt.plot(estoque_empr_formais.crescimento_estoque_empr_formais, label= 'Estoque Empregos Formais', color='#f00c0c')\n",
        "plt.plot(ibc_ajuste_sazonal.crescimento_ibc_ajuste_sazonal, label='IBC Ajuste Sazonal', color='#0dd910')\n",
        "plt.plot(indice_cond_econ.crescimento_indice_cond_econ, label='Índice Condições Econômicas', color='#fc8b0a')\n",
        "plt.plot(indice_prod_ind.crescimento_indice_prod_ind, label='Índice Produção Industrial', color='#898a96')\n",
        "plt.plot(isa_dessazonalizado.crescimento_isa_dessazonalizado, label='ISA Dessazonalizado', color='#154d08')\n",
        "plt.plot(pms.crescimento_pms, label='Pms', color='#0aa9ff')\n",
        "plt.plot(pro_elet.crescimento_producao_eletrica, label='Produção Elétrica', color='#b4bf19')\n",
        "plt.plot(prod_auto.crescimento_producao_autoveiculos, label='Produção Autoveículos', color='#6c05f2')\n",
        "plt.plot(prod_industrial.crescimento_prod_industrial_sudeste, label='Produção Industrial Sudeste', color='#59131b')\n",
        "plt.plot(vendas_veiculos.crescimento_vendas_veiculos, label='Vendas Veículos', color='#320769')\n",
        "\n",
        "\n",
        "plt.xlabel('Data')\n",
        "plt.ylabel('Crescimento (%)')\n",
        "plt.legend()\n",
        "plt.tight_layout()\n",
        "\n",
        "plt.show()"
      ],
      "metadata": {
        "id": "Picyecna0qW6"
      },
      "execution_count": null,
      "outputs": []
    },
    {
      "cell_type": "markdown",
      "source": [
        "###Regressão linear simples IBC-BR"
      ],
      "metadata": {
        "id": "1p97IRtFOmQ5"
      }
    },
    {
      "cell_type": "code",
      "source": [
        "# Variável dependente (Y) -> IBC BR 2003-01-01 2022-05-01\n",
        "# Variáveis independentes (X) -> venda de veículos, consumo de energia total, estoque de empregos formais, índice de condições econômicas e índice de produção industrial\n",
        "\n",
        "# Criando o DataFrame com as variáveis para colocar todos na mesma data\n",
        "df = pd.DataFrame().append([ibc_ajuste_sazonal['ibc_ajuste_sazonal'], vendas_veiculos['vendas_autoveiculos (uni)'], consumo_energia_total['consumo_energia_total'], estoque_empr_formais['estoque_empr_formais'], indice_cond_econ['indice_cond_econ'], indice_prod_ind['indice_prod_ind']], ignore_index=False).transpose()\n",
        "# Retirando os valores nulos\n",
        "df = df['2003-01-01':'2022-05-01']\n",
        "# Normalizando dos dados com a variação percentual iniciando em 2003-01-01\n",
        "df = (df / df.iloc[0]) - 1\n",
        "df"
      ],
      "metadata": {
        "colab": {
          "base_uri": "https://localhost:8080/",
          "height": 455
        },
        "id": "kCEUB5YyOhuD",
        "outputId": "91ac5fee-3dc3-42a5-a5aa-987c9f109913"
      },
      "execution_count": null,
      "outputs": [
        {
          "output_type": "execute_result",
          "data": {
            "text/plain": [
              "            ibc_ajuste_sazonal  vendas_autoveiculos (uni)  \\\n",
              "data                                                        \n",
              "2003-01-01            0.000000                   0.000000   \n",
              "2003-02-01            0.016637                   0.005955   \n",
              "2003-03-01            0.016736                  -0.124925   \n",
              "2003-04-01            0.005081                  -0.071335   \n",
              "2003-05-01           -0.005878                  -0.090776   \n",
              "...                        ...                        ...   \n",
              "2022-01-01            0.398585                   0.078978   \n",
              "2022-02-01            0.410839                   0.128824   \n",
              "2022-03-01            0.424985                   0.252325   \n",
              "2022-04-01            0.415920                   0.256044   \n",
              "2022-05-01            0.414326                   0.595793   \n",
              "\n",
              "            consumo_energia_total  estoque_empr_formais  indice_cond_econ  \\\n",
              "data                                                                        \n",
              "2003-01-01               0.000000              0.000000          0.000000   \n",
              "2003-02-01              -0.007435              0.003885          0.002790   \n",
              "2003-03-01               0.005129              0.004868         -0.000082   \n",
              "2003-04-01              -0.014512              0.011990          0.041106   \n",
              "2003-05-01              -0.010456              0.018477          0.098375   \n",
              "...                           ...                   ...               ...   \n",
              "2022-01-01               0.692629              0.887973          0.096406   \n",
              "2022-02-01               0.667303              0.903535          0.055546   \n",
              "2022-03-01               0.758349              0.907751          0.070725   \n",
              "2022-04-01               0.713383              0.916952          0.049967   \n",
              "2022-05-01               0.668257              0.929647          0.066295   \n",
              "\n",
              "            indice_prod_ind  \n",
              "data                         \n",
              "2003-01-01         0.000000  \n",
              "2003-02-01        -0.029730  \n",
              "2003-03-01         0.045946  \n",
              "2003-04-01         0.033784  \n",
              "2003-05-01         0.077027  \n",
              "...                     ...  \n",
              "2022-01-01         0.025676  \n",
              "2022-02-01         0.025676  \n",
              "2022-03-01         0.141892  \n",
              "2022-04-01         0.093243  \n",
              "2022-05-01         0.200000  \n",
              "\n",
              "[233 rows x 6 columns]"
            ],
            "text/html": [
              "\n",
              "  <div id=\"df-8a1d94a0-ea4e-458b-b340-07f87b9190e3\">\n",
              "    <div class=\"colab-df-container\">\n",
              "      <div>\n",
              "<style scoped>\n",
              "    .dataframe tbody tr th:only-of-type {\n",
              "        vertical-align: middle;\n",
              "    }\n",
              "\n",
              "    .dataframe tbody tr th {\n",
              "        vertical-align: top;\n",
              "    }\n",
              "\n",
              "    .dataframe thead th {\n",
              "        text-align: right;\n",
              "    }\n",
              "</style>\n",
              "<table border=\"1\" class=\"dataframe\">\n",
              "  <thead>\n",
              "    <tr style=\"text-align: right;\">\n",
              "      <th></th>\n",
              "      <th>ibc_ajuste_sazonal</th>\n",
              "      <th>vendas_autoveiculos (uni)</th>\n",
              "      <th>consumo_energia_total</th>\n",
              "      <th>estoque_empr_formais</th>\n",
              "      <th>indice_cond_econ</th>\n",
              "      <th>indice_prod_ind</th>\n",
              "    </tr>\n",
              "    <tr>\n",
              "      <th>data</th>\n",
              "      <th></th>\n",
              "      <th></th>\n",
              "      <th></th>\n",
              "      <th></th>\n",
              "      <th></th>\n",
              "      <th></th>\n",
              "    </tr>\n",
              "  </thead>\n",
              "  <tbody>\n",
              "    <tr>\n",
              "      <th>2003-01-01</th>\n",
              "      <td>0.000000</td>\n",
              "      <td>0.000000</td>\n",
              "      <td>0.000000</td>\n",
              "      <td>0.000000</td>\n",
              "      <td>0.000000</td>\n",
              "      <td>0.000000</td>\n",
              "    </tr>\n",
              "    <tr>\n",
              "      <th>2003-02-01</th>\n",
              "      <td>0.016637</td>\n",
              "      <td>0.005955</td>\n",
              "      <td>-0.007435</td>\n",
              "      <td>0.003885</td>\n",
              "      <td>0.002790</td>\n",
              "      <td>-0.029730</td>\n",
              "    </tr>\n",
              "    <tr>\n",
              "      <th>2003-03-01</th>\n",
              "      <td>0.016736</td>\n",
              "      <td>-0.124925</td>\n",
              "      <td>0.005129</td>\n",
              "      <td>0.004868</td>\n",
              "      <td>-0.000082</td>\n",
              "      <td>0.045946</td>\n",
              "    </tr>\n",
              "    <tr>\n",
              "      <th>2003-04-01</th>\n",
              "      <td>0.005081</td>\n",
              "      <td>-0.071335</td>\n",
              "      <td>-0.014512</td>\n",
              "      <td>0.011990</td>\n",
              "      <td>0.041106</td>\n",
              "      <td>0.033784</td>\n",
              "    </tr>\n",
              "    <tr>\n",
              "      <th>2003-05-01</th>\n",
              "      <td>-0.005878</td>\n",
              "      <td>-0.090776</td>\n",
              "      <td>-0.010456</td>\n",
              "      <td>0.018477</td>\n",
              "      <td>0.098375</td>\n",
              "      <td>0.077027</td>\n",
              "    </tr>\n",
              "    <tr>\n",
              "      <th>...</th>\n",
              "      <td>...</td>\n",
              "      <td>...</td>\n",
              "      <td>...</td>\n",
              "      <td>...</td>\n",
              "      <td>...</td>\n",
              "      <td>...</td>\n",
              "    </tr>\n",
              "    <tr>\n",
              "      <th>2022-01-01</th>\n",
              "      <td>0.398585</td>\n",
              "      <td>0.078978</td>\n",
              "      <td>0.692629</td>\n",
              "      <td>0.887973</td>\n",
              "      <td>0.096406</td>\n",
              "      <td>0.025676</td>\n",
              "    </tr>\n",
              "    <tr>\n",
              "      <th>2022-02-01</th>\n",
              "      <td>0.410839</td>\n",
              "      <td>0.128824</td>\n",
              "      <td>0.667303</td>\n",
              "      <td>0.903535</td>\n",
              "      <td>0.055546</td>\n",
              "      <td>0.025676</td>\n",
              "    </tr>\n",
              "    <tr>\n",
              "      <th>2022-03-01</th>\n",
              "      <td>0.424985</td>\n",
              "      <td>0.252325</td>\n",
              "      <td>0.758349</td>\n",
              "      <td>0.907751</td>\n",
              "      <td>0.070725</td>\n",
              "      <td>0.141892</td>\n",
              "    </tr>\n",
              "    <tr>\n",
              "      <th>2022-04-01</th>\n",
              "      <td>0.415920</td>\n",
              "      <td>0.256044</td>\n",
              "      <td>0.713383</td>\n",
              "      <td>0.916952</td>\n",
              "      <td>0.049967</td>\n",
              "      <td>0.093243</td>\n",
              "    </tr>\n",
              "    <tr>\n",
              "      <th>2022-05-01</th>\n",
              "      <td>0.414326</td>\n",
              "      <td>0.595793</td>\n",
              "      <td>0.668257</td>\n",
              "      <td>0.929647</td>\n",
              "      <td>0.066295</td>\n",
              "      <td>0.200000</td>\n",
              "    </tr>\n",
              "  </tbody>\n",
              "</table>\n",
              "<p>233 rows × 6 columns</p>\n",
              "</div>\n",
              "      <button class=\"colab-df-convert\" onclick=\"convertToInteractive('df-8a1d94a0-ea4e-458b-b340-07f87b9190e3')\"\n",
              "              title=\"Convert this dataframe to an interactive table.\"\n",
              "              style=\"display:none;\">\n",
              "        \n",
              "  <svg xmlns=\"http://www.w3.org/2000/svg\" height=\"24px\"viewBox=\"0 0 24 24\"\n",
              "       width=\"24px\">\n",
              "    <path d=\"M0 0h24v24H0V0z\" fill=\"none\"/>\n",
              "    <path d=\"M18.56 5.44l.94 2.06.94-2.06 2.06-.94-2.06-.94-.94-2.06-.94 2.06-2.06.94zm-11 1L8.5 8.5l.94-2.06 2.06-.94-2.06-.94L8.5 2.5l-.94 2.06-2.06.94zm10 10l.94 2.06.94-2.06 2.06-.94-2.06-.94-.94-2.06-.94 2.06-2.06.94z\"/><path d=\"M17.41 7.96l-1.37-1.37c-.4-.4-.92-.59-1.43-.59-.52 0-1.04.2-1.43.59L10.3 9.45l-7.72 7.72c-.78.78-.78 2.05 0 2.83L4 21.41c.39.39.9.59 1.41.59.51 0 1.02-.2 1.41-.59l7.78-7.78 2.81-2.81c.8-.78.8-2.07 0-2.86zM5.41 20L4 18.59l7.72-7.72 1.47 1.35L5.41 20z\"/>\n",
              "  </svg>\n",
              "      </button>\n",
              "      \n",
              "  <style>\n",
              "    .colab-df-container {\n",
              "      display:flex;\n",
              "      flex-wrap:wrap;\n",
              "      gap: 12px;\n",
              "    }\n",
              "\n",
              "    .colab-df-convert {\n",
              "      background-color: #E8F0FE;\n",
              "      border: none;\n",
              "      border-radius: 50%;\n",
              "      cursor: pointer;\n",
              "      display: none;\n",
              "      fill: #1967D2;\n",
              "      height: 32px;\n",
              "      padding: 0 0 0 0;\n",
              "      width: 32px;\n",
              "    }\n",
              "\n",
              "    .colab-df-convert:hover {\n",
              "      background-color: #E2EBFA;\n",
              "      box-shadow: 0px 1px 2px rgba(60, 64, 67, 0.3), 0px 1px 3px 1px rgba(60, 64, 67, 0.15);\n",
              "      fill: #174EA6;\n",
              "    }\n",
              "\n",
              "    [theme=dark] .colab-df-convert {\n",
              "      background-color: #3B4455;\n",
              "      fill: #D2E3FC;\n",
              "    }\n",
              "\n",
              "    [theme=dark] .colab-df-convert:hover {\n",
              "      background-color: #434B5C;\n",
              "      box-shadow: 0px 1px 3px 1px rgba(0, 0, 0, 0.15);\n",
              "      filter: drop-shadow(0px 1px 2px rgba(0, 0, 0, 0.3));\n",
              "      fill: #FFFFFF;\n",
              "    }\n",
              "  </style>\n",
              "\n",
              "      <script>\n",
              "        const buttonEl =\n",
              "          document.querySelector('#df-8a1d94a0-ea4e-458b-b340-07f87b9190e3 button.colab-df-convert');\n",
              "        buttonEl.style.display =\n",
              "          google.colab.kernel.accessAllowed ? 'block' : 'none';\n",
              "\n",
              "        async function convertToInteractive(key) {\n",
              "          const element = document.querySelector('#df-8a1d94a0-ea4e-458b-b340-07f87b9190e3');\n",
              "          const dataTable =\n",
              "            await google.colab.kernel.invokeFunction('convertToInteractive',\n",
              "                                                     [key], {});\n",
              "          if (!dataTable) return;\n",
              "\n",
              "          const docLinkHtml = 'Like what you see? Visit the ' +\n",
              "            '<a target=\"_blank\" href=https://colab.research.google.com/notebooks/data_table.ipynb>data table notebook</a>'\n",
              "            + ' to learn more about interactive tables.';\n",
              "          element.innerHTML = '';\n",
              "          dataTable['output_type'] = 'display_data';\n",
              "          await google.colab.output.renderOutput(dataTable, element);\n",
              "          const docLink = document.createElement('div');\n",
              "          docLink.innerHTML = docLinkHtml;\n",
              "          element.appendChild(docLink);\n",
              "        }\n",
              "      </script>\n",
              "    </div>\n",
              "  </div>\n",
              "  "
            ]
          },
          "metadata": {},
          "execution_count": 45
        }
      ]
    },
    {
      "cell_type": "code",
      "source": [
        "plt.plot(df)\n",
        "plt.legend(('ibc_ajuste_sazonal', 'vendas_autoveiculos (uni)', 'consumo_energia_total', 'estoque_empr_formais', 'indice_cond_econ', 'indice_prod_ind'))"
      ],
      "metadata": {
        "id": "lSs5WhVBMI4A"
      },
      "execution_count": null,
      "outputs": []
    },
    {
      "cell_type": "markdown",
      "source": [
        "###### MODELO E A ESTIMAÇÃO DE MÍNIMOS QUADRADOS ORDINÁRIOS\n",
        "Notação Matricial: y = X * BETA + SQR"
      ],
      "metadata": {
        "id": "Jck41rwAqtJd"
      }
    },
    {
      "cell_type": "code",
      "source": [
        "#  "
      ],
      "metadata": {
        "id": "PqkcZos5qfxz"
      },
      "execution_count": null,
      "outputs": []
    }
  ]
}